{
  "nbformat": 4,
  "nbformat_minor": 0,
  "metadata": {
    "colab": {
      "name": "Copy of Copy of conda-on-google-colab.ipynb",
      "provenance": [],
      "collapsed_sections": [],
      "include_colab_link": true
    },
    "kernelspec": {
      "name": "python3",
      "display_name": "Python 3"
    }
  },
  "cells": [
    {
      "cell_type": "markdown",
      "metadata": {
        "id": "view-in-github",
        "colab_type": "text"
      },
      "source": [
        "<a href=\"https://colab.research.google.com/github/notesasif/asif.github.io/blob/main/conda_on_google_colab.ipynb\" target=\"_parent\"><img src=\"https://colab.research.google.com/assets/colab-badge.svg\" alt=\"Open In Colab\"/></a>"
      ]
    },
    {
      "cell_type": "code",
      "metadata": {
        "id": "uyfFc8VufUyl",
        "outputId": "5cd7c8d8-d0eb-4628-e458-4905b9677b66",
        "colab": {
          "base_uri": "https://localhost:8080/"
        }
      },
      "source": [
        "################################################################################\n",
        "# INSTALL CONDA ON GOOGLE COLAB\n",
        "################################################################################\n",
        "! wget https://repo.anaconda.com/miniconda/Miniconda3-py37_4.8.2-Linux-x86_64.sh\n",
        "! chmod +x Miniconda3-py37_4.8.2-Linux-x86_64.sh\n",
        "! bash ./Miniconda3-py37_4.8.2-Linux-x86_64.sh -b -f -p /usr/local\n",
        "import sys\n",
        "sys.path.append('/usr/local/lib/python3.7/site-packages/')\n",
        "\n"
      ],
      "execution_count": null,
      "outputs": [
        {
          "output_type": "stream",
          "name": "stdout",
          "text": [
            "--2022-01-20 21:22:10--  https://repo.anaconda.com/miniconda/Miniconda3-py37_4.8.2-Linux-x86_64.sh\n",
            "Resolving repo.anaconda.com (repo.anaconda.com)... 104.16.131.3, 104.16.130.3, 2606:4700::6810:8203, ...\n",
            "Connecting to repo.anaconda.com (repo.anaconda.com)|104.16.131.3|:443... connected.\n",
            "HTTP request sent, awaiting response... 200 OK\n",
            "Length: 85055499 (81M) [application/x-sh]\n",
            "Saving to: ‘Miniconda3-py37_4.8.2-Linux-x86_64.sh’\n",
            "\n",
            "Miniconda3-py37_4.8 100%[===================>]  81.12M   317MB/s    in 0.3s    \n",
            "\n",
            "2022-01-20 21:22:10 (317 MB/s) - ‘Miniconda3-py37_4.8.2-Linux-x86_64.sh’ saved [85055499/85055499]\n",
            "\n",
            "PREFIX=/usr/local\n",
            "Unpacking payload ...\n",
            "Collecting package metadata (current_repodata.json): - \b\b\\ \b\b| \b\bdone\n",
            "Solving environment: - \b\bdone\n",
            "\n",
            "## Package Plan ##\n",
            "\n",
            "  environment location: /usr/local\n",
            "\n",
            "  added / updated specs:\n",
            "    - _libgcc_mutex==0.1=main\n",
            "    - asn1crypto==1.3.0=py37_0\n",
            "    - ca-certificates==2020.1.1=0\n",
            "    - certifi==2019.11.28=py37_0\n",
            "    - cffi==1.14.0=py37h2e261b9_0\n",
            "    - chardet==3.0.4=py37_1003\n",
            "    - conda-package-handling==1.6.0=py37h7b6447c_0\n",
            "    - conda==4.8.2=py37_0\n",
            "    - cryptography==2.8=py37h1ba5d50_0\n",
            "    - idna==2.8=py37_0\n",
            "    - ld_impl_linux-64==2.33.1=h53a641e_7\n",
            "    - libedit==3.1.20181209=hc058e9b_0\n",
            "    - libffi==3.2.1=hd88cf55_4\n",
            "    - libgcc-ng==9.1.0=hdf63c60_0\n",
            "    - libstdcxx-ng==9.1.0=hdf63c60_0\n",
            "    - ncurses==6.2=he6710b0_0\n",
            "    - openssl==1.1.1d=h7b6447c_4\n",
            "    - pip==20.0.2=py37_1\n",
            "    - pycosat==0.6.3=py37h7b6447c_0\n",
            "    - pycparser==2.19=py37_0\n",
            "    - pyopenssl==19.1.0=py37_0\n",
            "    - pysocks==1.7.1=py37_0\n",
            "    - python==3.7.6=h0371630_2\n",
            "    - readline==7.0=h7b6447c_5\n",
            "    - requests==2.22.0=py37_1\n",
            "    - ruamel_yaml==0.15.87=py37h7b6447c_0\n",
            "    - setuptools==45.2.0=py37_0\n",
            "    - six==1.14.0=py37_0\n",
            "    - sqlite==3.31.1=h7b6447c_0\n",
            "    - tk==8.6.8=hbc83047_0\n",
            "    - tqdm==4.42.1=py_0\n",
            "    - urllib3==1.25.8=py37_0\n",
            "    - wheel==0.34.2=py37_0\n",
            "    - xz==5.2.4=h14c3975_4\n",
            "    - yaml==0.1.7=had09818_2\n",
            "    - zlib==1.2.11=h7b6447c_3\n",
            "\n",
            "\n",
            "The following NEW packages will be INSTALLED:\n",
            "\n",
            "  _libgcc_mutex      pkgs/main/linux-64::_libgcc_mutex-0.1-main\n",
            "  asn1crypto         pkgs/main/linux-64::asn1crypto-1.3.0-py37_0\n",
            "  ca-certificates    pkgs/main/linux-64::ca-certificates-2020.1.1-0\n",
            "  certifi            pkgs/main/linux-64::certifi-2019.11.28-py37_0\n",
            "  cffi               pkgs/main/linux-64::cffi-1.14.0-py37h2e261b9_0\n",
            "  chardet            pkgs/main/linux-64::chardet-3.0.4-py37_1003\n",
            "  conda              pkgs/main/linux-64::conda-4.8.2-py37_0\n",
            "  conda-package-han~ pkgs/main/linux-64::conda-package-handling-1.6.0-py37h7b6447c_0\n",
            "  cryptography       pkgs/main/linux-64::cryptography-2.8-py37h1ba5d50_0\n",
            "  idna               pkgs/main/linux-64::idna-2.8-py37_0\n",
            "  ld_impl_linux-64   pkgs/main/linux-64::ld_impl_linux-64-2.33.1-h53a641e_7\n",
            "  libedit            pkgs/main/linux-64::libedit-3.1.20181209-hc058e9b_0\n",
            "  libffi             pkgs/main/linux-64::libffi-3.2.1-hd88cf55_4\n",
            "  libgcc-ng          pkgs/main/linux-64::libgcc-ng-9.1.0-hdf63c60_0\n",
            "  libstdcxx-ng       pkgs/main/linux-64::libstdcxx-ng-9.1.0-hdf63c60_0\n",
            "  ncurses            pkgs/main/linux-64::ncurses-6.2-he6710b0_0\n",
            "  openssl            pkgs/main/linux-64::openssl-1.1.1d-h7b6447c_4\n",
            "  pip                pkgs/main/linux-64::pip-20.0.2-py37_1\n",
            "  pycosat            pkgs/main/linux-64::pycosat-0.6.3-py37h7b6447c_0\n",
            "  pycparser          pkgs/main/linux-64::pycparser-2.19-py37_0\n",
            "  pyopenssl          pkgs/main/linux-64::pyopenssl-19.1.0-py37_0\n",
            "  pysocks            pkgs/main/linux-64::pysocks-1.7.1-py37_0\n",
            "  python             pkgs/main/linux-64::python-3.7.6-h0371630_2\n",
            "  readline           pkgs/main/linux-64::readline-7.0-h7b6447c_5\n",
            "  requests           pkgs/main/linux-64::requests-2.22.0-py37_1\n",
            "  ruamel_yaml        pkgs/main/linux-64::ruamel_yaml-0.15.87-py37h7b6447c_0\n",
            "  setuptools         pkgs/main/linux-64::setuptools-45.2.0-py37_0\n",
            "  six                pkgs/main/linux-64::six-1.14.0-py37_0\n",
            "  sqlite             pkgs/main/linux-64::sqlite-3.31.1-h7b6447c_0\n",
            "  tk                 pkgs/main/linux-64::tk-8.6.8-hbc83047_0\n",
            "  tqdm               pkgs/main/noarch::tqdm-4.42.1-py_0\n",
            "  urllib3            pkgs/main/linux-64::urllib3-1.25.8-py37_0\n",
            "  wheel              pkgs/main/linux-64::wheel-0.34.2-py37_0\n",
            "  xz                 pkgs/main/linux-64::xz-5.2.4-h14c3975_4\n",
            "  yaml               pkgs/main/linux-64::yaml-0.1.7-had09818_2\n",
            "  zlib               pkgs/main/linux-64::zlib-1.2.11-h7b6447c_3\n",
            "\n",
            "\n",
            "Preparing transaction: | \b\b/ \b\b- \b\b\\ \b\bdone\n",
            "Executing transaction: / \b\b- \b\b\\ \b\b| \b\b/ \b\b- \b\b\\ \b\b| \b\b/ \b\b- \b\b\\ \b\b| \b\b/ \b\b- \b\b\\ \b\b| \b\bdone\n",
            "installation finished.\n",
            "WARNING:\n",
            "    You currently have a PYTHONPATH environment variable set. This may cause\n",
            "    unexpected behavior when running the Python interpreter in Miniconda3.\n",
            "    For best results, please verify that your PYTHONPATH only points to\n",
            "    directories of packages that are compatible with the Python interpreter\n",
            "    in Miniconda3: /usr/local\n"
          ]
        }
      ]
    },
    {
      "cell_type": "code",
      "source": [
        "import graphviz\n",
        "\n",
        "g = graphviz.Digraph('G', filename='hello.gv')\n",
        "\n",
        "g.edge('Hello', 'World')\n",
        "\n",
        "g.view()"
      ],
      "metadata": {
        "colab": {
          "base_uri": "https://localhost:8080/",
          "height": 36
        },
        "id": "uuPybpuofJkh",
        "outputId": "7bb1eaa7-ae89-4d9f-8d9f-cf97fad30f39"
      },
      "execution_count": null,
      "outputs": [
        {
          "output_type": "execute_result",
          "data": {
            "application/vnd.google.colaboratory.intrinsic+json": {
              "type": "string"
            },
            "text/plain": [
              "'hello.gv.pdf'"
            ]
          },
          "metadata": {},
          "execution_count": 10
        }
      ]
    },
    {
      "cell_type": "code",
      "source": [
        "! conda install -c anaconda graphviz "
      ],
      "metadata": {
        "colab": {
          "base_uri": "https://localhost:8080/"
        },
        "id": "XgWIGaZRXwYp",
        "outputId": "cd83baaa-cc78-457a-fd25-9d72c71c5b86"
      },
      "execution_count": null,
      "outputs": [
        {
          "output_type": "stream",
          "name": "stdout",
          "text": [
            "Collecting package metadata (current_repodata.json): - \b\b\\ \b\b| \b\b/ \b\b- \b\b\\ \b\b| \b\b/ \b\b- \b\b\\ \b\b| \b\b/ \b\b- \b\b\\ \b\b| \b\b/ \b\b- \b\b\\ \b\b| \b\b/ \b\b- \b\b\\ \b\b| \b\b/ \b\bdone\n",
            "Solving environment: \\ \b\b| \b\b/ \b\b- \b\b\\ \b\b| \b\b/ \b\b- \b\b\\ \b\b| \b\b/ \b\b- \b\b\\ \b\b| \b\b/ \b\bfailed with initial frozen solve. Retrying with flexible solve.\n",
            "Solving environment: \\ \b\b| \b\b/ \b\b- \b\b\\ \b\b| \b\b/ \b\b- \b\b\\ \b\b| \b\b/ \b\b- \b\b\\ \b\b| \b\b/ \b\b- \b\b\\ \b\bfailed with repodata from current_repodata.json, will retry with next repodata source.\n",
            "Collecting package metadata (repodata.json): / \b\b- \b\b\\ \b\b| \b\b/ \b\b- \b\b\\ \b\b| \b\b/ \b\b- \b\b\\ \b\b| \b\b/ \b\b- \b\b\\ \b\b| \b\b/ \b\b- \b\b\\ \b\b| \b\b/ \b\b- \b\b\\ \b\b| \b\b/ \b\b- \b\b\\ \b\b| \b\b/ \b\b- \b\b\\ \b\b| \b\b/ \b\b- \b\b\\ \b\b| \b\b/ \b\b- \b\b\\ \b\b| \b\b/ \b\b- \b\b\\ \b\b| \b\b/ \b\b- \b\b\\ \b\b| \b\b/ \b\b- \b\b\\ \b\b| \b\b/ \b\b- \b\b\\ \b\b| \b\b/ \b\b- \b\b\\ \b\b| \b\b/ \b\b- \b\b\\ \b\b| \b\bdone\n",
            "Solving environment: - \b\b\\ \b\b| \b\b/ \b\b- \b\b\\ \b\b| \b\b/ \b\b- \b\b\\ \b\b| \b\b/ \b\b- \b\b\\ \b\b| \b\b/ \b\b- \b\b\\ \b\b| \b\b/ \b\b- \b\b\\ \b\b| \b\b/ \b\b- \b\b\\ \b\bdone\n",
            "\n",
            "\n",
            "==> WARNING: A newer version of conda exists. <==\n",
            "  current version: 4.8.2\n",
            "  latest version: 4.11.0\n",
            "\n",
            "Please update conda by running\n",
            "\n",
            "    $ conda update -n base -c defaults conda\n",
            "\n",
            "\n",
            "\n",
            "## Package Plan ##\n",
            "\n",
            "  environment location: /usr/local\n",
            "\n",
            "  added / updated specs:\n",
            "    - graphviz\n",
            "\n",
            "\n",
            "The following packages will be downloaded:\n",
            "\n",
            "    package                    |            build\n",
            "    ---------------------------|-----------------\n",
            "    ca-certificates-2020.10.14 |                0         128 KB  anaconda\n",
            "    cairo-1.14.12              |       h8948797_3         1.3 MB  anaconda\n",
            "    certifi-2020.6.20          |           py37_0         159 KB  anaconda\n",
            "    conda-4.9.0                |           py37_0         3.1 MB  anaconda\n",
            "    expat-2.2.10               |       he6710b0_2         192 KB  anaconda\n",
            "    fontconfig-2.13.0          |       h9420a91_0         291 KB  anaconda\n",
            "    freetype-2.10.4            |       h5ab3b9f_0         901 KB  anaconda\n",
            "    fribidi-1.0.10             |       h7b6447c_0         115 KB  anaconda\n",
            "    glib-2.56.2                |       hd408876_0         5.0 MB  anaconda\n",
            "    graphite2-1.3.14           |       h23475e2_0         102 KB  anaconda\n",
            "    graphviz-2.40.1            |       h21bd128_2         6.9 MB  anaconda\n",
            "    harfbuzz-1.8.8             |       hffaf4a1_0         863 KB  anaconda\n",
            "    icu-58.2                   |       he6710b0_3        22.7 MB  anaconda\n",
            "    jpeg-9b                    |       habf39ab_1         247 KB  anaconda\n",
            "    libpng-1.6.37              |       hbc83047_0         364 KB  anaconda\n",
            "    libtiff-4.1.0              |       h2733197_0         589 KB  anaconda\n",
            "    libuuid-1.0.3              |       h1bed415_2          16 KB  anaconda\n",
            "    libxcb-1.14                |       h7b6447c_0         610 KB  anaconda\n",
            "    libxml2-2.9.9              |       hea5a465_1         2.0 MB  anaconda\n",
            "    openssl-1.1.1h             |       h7b6447c_0         3.8 MB  anaconda\n",
            "    pango-1.42.4               |       h049681c_0         528 KB  anaconda\n",
            "    pcre-8.44                  |       he6710b0_0         269 KB  anaconda\n",
            "    pixman-0.40.0              |       h7b6447c_0         628 KB  anaconda\n",
            "    zstd-1.3.7                 |       h0b5b093_0         887 KB  anaconda\n",
            "    ------------------------------------------------------------\n",
            "                                           Total:        51.5 MB\n",
            "\n",
            "The following NEW packages will be INSTALLED:\n",
            "\n",
            "  cairo              anaconda/linux-64::cairo-1.14.12-h8948797_3\n",
            "  expat              anaconda/linux-64::expat-2.2.10-he6710b0_2\n",
            "  fontconfig         anaconda/linux-64::fontconfig-2.13.0-h9420a91_0\n",
            "  freetype           anaconda/linux-64::freetype-2.10.4-h5ab3b9f_0\n",
            "  fribidi            anaconda/linux-64::fribidi-1.0.10-h7b6447c_0\n",
            "  glib               anaconda/linux-64::glib-2.56.2-hd408876_0\n",
            "  graphite2          anaconda/linux-64::graphite2-1.3.14-h23475e2_0\n",
            "  graphviz           anaconda/linux-64::graphviz-2.40.1-h21bd128_2\n",
            "  harfbuzz           anaconda/linux-64::harfbuzz-1.8.8-hffaf4a1_0\n",
            "  icu                anaconda/linux-64::icu-58.2-he6710b0_3\n",
            "  jpeg               anaconda/linux-64::jpeg-9b-habf39ab_1\n",
            "  libpng             anaconda/linux-64::libpng-1.6.37-hbc83047_0\n",
            "  libtiff            anaconda/linux-64::libtiff-4.1.0-h2733197_0\n",
            "  libuuid            anaconda/linux-64::libuuid-1.0.3-h1bed415_2\n",
            "  libxcb             anaconda/linux-64::libxcb-1.14-h7b6447c_0\n",
            "  libxml2            anaconda/linux-64::libxml2-2.9.9-hea5a465_1\n",
            "  pango              anaconda/linux-64::pango-1.42.4-h049681c_0\n",
            "  pcre               anaconda/linux-64::pcre-8.44-he6710b0_0\n",
            "  pixman             anaconda/linux-64::pixman-0.40.0-h7b6447c_0\n",
            "  zstd               anaconda/linux-64::zstd-1.3.7-h0b5b093_0\n",
            "\n",
            "The following packages will be UPDATED:\n",
            "\n",
            "  ca-certificates     pkgs/main::ca-certificates-2020.1.1-0 --> anaconda::ca-certificates-2020.10.14-0\n",
            "  certifi              pkgs/main::certifi-2019.11.28-py37_0 --> anaconda::certifi-2020.6.20-py37_0\n",
            "  conda                       pkgs/main::conda-4.8.2-py37_0 --> anaconda::conda-4.9.0-py37_0\n",
            "  openssl              pkgs/main::openssl-1.1.1d-h7b6447c_4 --> anaconda::openssl-1.1.1h-h7b6447c_0\n",
            "\n",
            "\n",
            "Proceed ([y]/n)? y\n",
            "\n",
            "\n",
            "Downloading and Extracting Packages\n",
            "pcre-8.44            | 269 KB    | : 100% 1.0/1 [00:00<00:00,  6.60it/s]\n",
            "jpeg-9b              | 247 KB    | : 100% 1.0/1 [00:00<00:00, 12.42it/s]\n",
            "libxml2-2.9.9        | 2.0 MB    | : 100% 1.0/1 [00:01<00:00, 10.77s/it]               \n",
            "pango-1.42.4         | 528 KB    | : 100% 1.0/1 [00:00<00:00,  5.29it/s]\n",
            "fribidi-1.0.10       | 115 KB    | : 100% 1.0/1 [00:00<00:00,  2.52it/s]                \n",
            "freetype-2.10.4      | 901 KB    | : 100% 1.0/1 [00:00<00:00,  5.31it/s]\n",
            "zstd-1.3.7           | 887 KB    | : 100% 1.0/1 [00:00<00:00,  5.71it/s]\n",
            "pixman-0.40.0        | 628 KB    | : 100% 1.0/1 [00:00<00:00,  7.62it/s]\n",
            "graphviz-2.40.1      | 6.9 MB    | : 100% 1.0/1 [00:00<00:00,  1.01it/s]\n",
            "graphite2-1.3.14     | 102 KB    | : 100% 1.0/1 [00:00<00:00, 22.32it/s]\n",
            "openssl-1.1.1h       | 3.8 MB    | : 100% 1.0/1 [00:00<00:00,  1.42it/s]\n",
            "libuuid-1.0.3        | 16 KB     | : 100% 1.0/1 [00:00<00:00, 33.76it/s]\n",
            "conda-4.9.0          | 3.1 MB    | : 100% 1.0/1 [00:02<00:00, 14.06s/it]               \n",
            "expat-2.2.10         | 192 KB    | : 100% 1.0/1 [00:00<00:00, 13.73it/s]\n",
            "libxcb-1.14          | 610 KB    | : 100% 1.0/1 [00:00<00:00,  4.60it/s]\n",
            "fontconfig-2.13.0    | 291 KB    | : 100% 1.0/1 [00:00<00:00, 11.27it/s]\n",
            "ca-certificates-2020 | 128 KB    | : 100% 1.0/1 [00:00<00:00, 25.33it/s]\n",
            "cairo-1.14.12        | 1.3 MB    | : 100% 1.0/1 [00:00<00:00,  3.08it/s]\n",
            "icu-58.2             | 22.7 MB   | : 100% 1.0/1 [00:03<00:00,  3.92s/it]               \n",
            "libtiff-4.1.0        | 589 KB    | : 100% 1.0/1 [00:00<00:00,  7.02s/it]                 \n",
            "certifi-2020.6.20    | 159 KB    | : 100% 1.0/1 [00:00<00:00, 20.13it/s]\n",
            "harfbuzz-1.8.8       | 863 KB    | : 100% 1.0/1 [00:00<00:00,  5.36it/s]\n",
            "libpng-1.6.37        | 364 KB    | : 100% 1.0/1 [00:00<00:00, 10.68it/s]\n",
            "glib-2.56.2          | 5.0 MB    | : 100% 1.0/1 [00:01<00:00,  1.43s/it]\n",
            "Preparing transaction: / \b\b- \b\bdone\n",
            "Verifying transaction: | \b\b/ \b\b- \b\b\\ \b\b| \b\b/ \b\b- \b\bdone\n",
            "Executing transaction: | \b\b/ \b\b- \b\b\\ \b\bdone\n"
          ]
        }
      ]
    },
    {
      "cell_type": "code",
      "source": [
        "! conda install -c anaconda graphviz -y"
      ],
      "metadata": {
        "colab": {
          "base_uri": "https://localhost:8080/"
        },
        "id": "nC8YZezKX_LD",
        "outputId": "985ef46f-f17b-4f88-ae06-fa0968d8141c"
      },
      "execution_count": null,
      "outputs": [
        {
          "output_type": "stream",
          "name": "stdout",
          "text": [
            "Collecting package metadata (current_repodata.json): - \b\b\\ \b\b| \b\b/ \b\b- \b\b\\ \b\b| \b\b/ \b\b- \b\bdone\n",
            "Solving environment: | \b\b/ \b\b- \b\b\\ \b\b| \b\b/ \b\bdone\n",
            "\n",
            "# All requested packages already installed.\n",
            "\n"
          ]
        }
      ]
    },
    {
      "cell_type": "code",
      "source": [
        "import graphviz\n",
        "\n",
        "g = graphviz.Graph('G', filename='process.gv', engine='sfdp')\n",
        "\n",
        "g.edge('run', 'intr')\n",
        "g.edge('intr', 'runbl')\n",
        "g.edge('runbl', 'run')\n",
        "g.edge('run', 'kernel')\n",
        "g.edge('kernel', 'zombie')\n",
        "g.edge('kernel', 'sleep')\n",
        "g.edge('kernel', 'runmem')\n",
        "g.edge('sleep', 'swap')\n",
        "g.edge('swap', 'runswap')\n",
        "g.edge('runswap', 'new')\n",
        "g.edge('runswap', 'runmem')\n",
        "g.edge('new', 'runmem')\n",
        "g.edge('sleep', 'runmem')\n",
        "\n",
        "\n",
        "\n",
        "with open(\"process.gv\") as f:\n",
        "    dot_graph = f.read()\n",
        "graphviz.Source(dot_graph)"
      ],
      "metadata": {
        "id": "nLR_9KUIfQCi",
        "outputId": "aa99125f-f6ab-470a-ad8b-a00115a8fa57",
        "colab": {
          "base_uri": "https://localhost:8080/",
          "height": 656
        }
      },
      "execution_count": null,
      "outputs": [
        {
          "output_type": "execute_result",
          "data": {
            "text/plain": [
              "<graphviz.files.Source at 0x7f4c5f2da250>"
            ],
            "image/svg+xml": "<?xml version=\"1.0\" encoding=\"UTF-8\" standalone=\"no\"?>\n<!DOCTYPE svg PUBLIC \"-//W3C//DTD SVG 1.1//EN\"\n \"http://www.w3.org/Graphics/SVG/1.1/DTD/svg11.dtd\">\n<!-- Generated by graphviz version 2.40.1 (20161225.0304)\n -->\n<!-- Title: G Pages: 1 -->\n<svg width=\"286pt\" height=\"476pt\"\n viewBox=\"0.00 0.00 286.04 476.00\" xmlns=\"http://www.w3.org/2000/svg\" xmlns:xlink=\"http://www.w3.org/1999/xlink\">\n<g id=\"graph0\" class=\"graph\" transform=\"scale(1 1) rotate(0) translate(4 472)\">\n<title>G</title>\n<polygon fill=\"#ffffff\" stroke=\"transparent\" points=\"-4,4 -4,-472 282.0432,-472 282.0432,4 -4,4\"/>\n<!-- run -->\n<g id=\"node1\" class=\"node\">\n<title>run</title>\n<ellipse fill=\"none\" stroke=\"#000000\" cx=\"85.5473\" cy=\"-450\" rx=\"27\" ry=\"18\"/>\n<text text-anchor=\"middle\" x=\"85.5473\" y=\"-446.3\" font-family=\"Times,serif\" font-size=\"14.00\" fill=\"#000000\">run</text>\n</g>\n<!-- intr -->\n<g id=\"node2\" class=\"node\">\n<title>intr</title>\n<ellipse fill=\"none\" stroke=\"#000000\" cx=\"30.5473\" cy=\"-378\" rx=\"27\" ry=\"18\"/>\n<text text-anchor=\"middle\" x=\"30.5473\" y=\"-374.3\" font-family=\"Times,serif\" font-size=\"14.00\" fill=\"#000000\">intr</text>\n</g>\n<!-- run&#45;&#45;intr -->\n<g id=\"edge1\" class=\"edge\">\n<title>run&#45;&#45;intr</title>\n<path fill=\"none\" stroke=\"#000000\" d=\"M73.0669,-433.6621C64.0659,-421.8788 51.968,-406.0416 42.9783,-394.2733\"/>\n</g>\n<!-- kernel -->\n<g id=\"node4\" class=\"node\">\n<title>kernel</title>\n<ellipse fill=\"none\" stroke=\"#000000\" cx=\"175.5473\" cy=\"-378\" rx=\"33.5952\" ry=\"18\"/>\n<text text-anchor=\"middle\" x=\"175.5473\" y=\"-374.3\" font-family=\"Times,serif\" font-size=\"14.00\" fill=\"#000000\">kernel</text>\n</g>\n<!-- run&#45;&#45;kernel -->\n<g id=\"edge4\" class=\"edge\">\n<title>run&#45;&#45;kernel</title>\n<path fill=\"none\" stroke=\"#000000\" d=\"M102.9002,-436.1177C118.3264,-423.7768 140.8295,-405.7742 156.694,-393.0826\"/>\n</g>\n<!-- runbl -->\n<g id=\"node3\" class=\"node\">\n<title>runbl</title>\n<ellipse fill=\"none\" stroke=\"#000000\" cx=\"30.5473\" cy=\"-306\" rx=\"30.5947\" ry=\"18\"/>\n<text text-anchor=\"middle\" x=\"30.5473\" y=\"-302.3\" font-family=\"Times,serif\" font-size=\"14.00\" fill=\"#000000\">runbl</text>\n</g>\n<!-- intr&#45;&#45;runbl -->\n<g id=\"edge2\" class=\"edge\">\n<title>intr&#45;&#45;runbl</title>\n<path fill=\"none\" stroke=\"#000000\" d=\"M30.5473,-359.8314C30.5473,-349 30.5473,-335.2876 30.5473,-324.4133\"/>\n</g>\n<!-- runbl&#45;&#45;run -->\n<g id=\"edge3\" class=\"edge\">\n<title>runbl&#45;&#45;run</title>\n<path fill=\"none\" stroke=\"#000000\" d=\"M43.9994,-322.5544C51.6751,-332.7833 60.8699,-346.4975 66.5473,-360 76.5128,-383.7008 81.4585,-413.1875 83.7568,-431.8083\"/>\n</g>\n<!-- zombie -->\n<g id=\"node5\" class=\"node\">\n<title>zombie</title>\n<ellipse fill=\"none\" stroke=\"#000000\" cx=\"117.5473\" cy=\"-306\" rx=\"38.1938\" ry=\"18\"/>\n<text text-anchor=\"middle\" x=\"117.5473\" y=\"-302.3\" font-family=\"Times,serif\" font-size=\"14.00\" fill=\"#000000\">zombie</text>\n</g>\n<!-- kernel&#45;&#45;zombie -->\n<g id=\"edge5\" class=\"edge\">\n<title>kernel&#45;&#45;zombie</title>\n<path fill=\"none\" stroke=\"#000000\" d=\"M162.0951,-361.3008C152.859,-349.8352 140.6354,-334.6612 131.3292,-323.1086\"/>\n</g>\n<!-- sleep -->\n<g id=\"node6\" class=\"node\">\n<title>sleep</title>\n<ellipse fill=\"none\" stroke=\"#000000\" cx=\"203.5473\" cy=\"-306\" rx=\"29.4969\" ry=\"18\"/>\n<text text-anchor=\"middle\" x=\"203.5473\" y=\"-302.3\" font-family=\"Times,serif\" font-size=\"14.00\" fill=\"#000000\">sleep</text>\n</g>\n<!-- kernel&#45;&#45;sleep -->\n<g id=\"edge6\" class=\"edge\">\n<title>kernel&#45;&#45;sleep</title>\n<path fill=\"none\" stroke=\"#000000\" d=\"M182.4686,-360.2022C186.8088,-349.0419 192.3806,-334.7143 196.7056,-323.593\"/>\n</g>\n<!-- runmem -->\n<g id=\"node7\" class=\"node\">\n<title>runmem</title>\n<ellipse fill=\"none\" stroke=\"#000000\" cx=\"194.5473\" cy=\"-18\" rx=\"42.4939\" ry=\"18\"/>\n<text text-anchor=\"middle\" x=\"194.5473\" y=\"-14.3\" font-family=\"Times,serif\" font-size=\"14.00\" fill=\"#000000\">runmem</text>\n</g>\n<!-- kernel&#45;&#45;runmem -->\n<g id=\"edge7\" class=\"edge\">\n<title>kernel&#45;&#45;runmem</title>\n<path fill=\"none\" stroke=\"#000000\" d=\"M197.6084,-364.2305C211.7571,-354.4617 229.6398,-340.2362 241.5473,-324 267.0253,-289.26 277.5473,-277.0813 277.5473,-234 277.5473,-234 277.5473,-234 277.5473,-162 277.5473,-121.1184 279.5309,-107.0856 258.5473,-72 248.9214,-55.9051 232.7456,-42.3191 219.0653,-32.8003\"/>\n</g>\n<!-- sleep&#45;&#45;runmem -->\n<g id=\"edge13\" class=\"edge\">\n<title>sleep&#45;&#45;runmem</title>\n<path fill=\"none\" stroke=\"#000000\" d=\"M189.0987,-290.1809C180.611,-280.0044 170.4258,-266.0877 164.5473,-252 152.0541,-222.0607 155.2231,-212.3309 152.5473,-180 151.2276,-164.0545 149.9844,-159.7934 152.5473,-144 159.011,-104.1691 176.2642,-59.9146 186.5352,-35.8975\"/>\n</g>\n<!-- swap -->\n<g id=\"node8\" class=\"node\">\n<title>swap</title>\n<ellipse fill=\"none\" stroke=\"#000000\" cx=\"203.5473\" cy=\"-234\" rx=\"29.795\" ry=\"18\"/>\n<text text-anchor=\"middle\" x=\"203.5473\" y=\"-230.3\" font-family=\"Times,serif\" font-size=\"14.00\" fill=\"#000000\">swap</text>\n</g>\n<!-- sleep&#45;&#45;swap -->\n<g id=\"edge8\" class=\"edge\">\n<title>sleep&#45;&#45;swap</title>\n<path fill=\"none\" stroke=\"#000000\" d=\"M203.5473,-287.8314C203.5473,-277 203.5473,-263.2876 203.5473,-252.4133\"/>\n</g>\n<!-- runswap -->\n<g id=\"node9\" class=\"node\">\n<title>runswap</title>\n<ellipse fill=\"none\" stroke=\"#000000\" cx=\"203.5473\" cy=\"-162\" rx=\"42.4939\" ry=\"18\"/>\n<text text-anchor=\"middle\" x=\"203.5473\" y=\"-158.3\" font-family=\"Times,serif\" font-size=\"14.00\" fill=\"#000000\">runswap</text>\n</g>\n<!-- swap&#45;&#45;runswap -->\n<g id=\"edge9\" class=\"edge\">\n<title>swap&#45;&#45;runswap</title>\n<path fill=\"none\" stroke=\"#000000\" d=\"M203.5473,-215.8314C203.5473,-205 203.5473,-191.2876 203.5473,-180.4133\"/>\n</g>\n<!-- runswap&#45;&#45;runmem -->\n<g id=\"edge11\" class=\"edge\">\n<title>runswap&#45;&#45;runmem</title>\n<path fill=\"none\" stroke=\"#000000\" d=\"M196.3034,-143.8366C192.5761,-133.513 188.4285,-120.2403 186.5473,-108 182.7347,-83.1927 186.8128,-54.2383 190.4076,-36.011\"/>\n</g>\n<!-- new -->\n<g id=\"node10\" class=\"node\">\n<title>new</title>\n<ellipse fill=\"none\" stroke=\"#000000\" cx=\"222.5473\" cy=\"-90\" rx=\"27\" ry=\"18\"/>\n<text text-anchor=\"middle\" x=\"222.5473\" y=\"-86.3\" font-family=\"Times,serif\" font-size=\"14.00\" fill=\"#000000\">new</text>\n</g>\n<!-- runswap&#45;&#45;new -->\n<g id=\"edge10\" class=\"edge\">\n<title>runswap&#45;&#45;new</title>\n<path fill=\"none\" stroke=\"#000000\" d=\"M208.3418,-143.8314C211.244,-132.8334 214.9301,-118.865 217.8201,-107.9134\"/>\n</g>\n<!-- new&#45;&#45;runmem -->\n<g id=\"edge12\" class=\"edge\">\n<title>new&#45;&#45;runmem</title>\n<path fill=\"none\" stroke=\"#000000\" d=\"M215.7693,-72.5708C211.4317,-61.4171 205.8205,-46.9882 201.4574,-35.7689\"/>\n</g>\n</g>\n</svg>\n"
          },
          "metadata": {},
          "execution_count": 15
        }
      ]
    }
  ]
}